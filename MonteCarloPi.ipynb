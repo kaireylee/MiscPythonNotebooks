{
  "nbformat": 4,
  "nbformat_minor": 0,
  "metadata": {
    "colab": {
      "name": "MonteCarloPi.ipynb",
      "version": "0.3.2",
      "provenance": [],
      "include_colab_link": true
    },
    "kernelspec": {
      "name": "python3",
      "display_name": "Python 3"
    }
  },
  "cells": [
    {
      "cell_type": "markdown",
      "metadata": {
        "id": "view-in-github",
        "colab_type": "text"
      },
      "source": [
        "<a href=\"https://colab.research.google.com/github/kaireylee/PythonNotebookFun/blob/master/MonteCarloPi.ipynb\" target=\"_parent\"><img src=\"https://colab.research.google.com/assets/colab-badge.svg\" alt=\"Open In Colab\"/></a>"
      ]
    },
    {
      "metadata": {
        "id": "WMq2bcF_3o__",
        "colab_type": "text"
      },
      "cell_type": "markdown",
      "source": [
        "# Estimating Pi Using the Monte Carlo Method"
      ]
    },
    {
      "metadata": {
        "id": "WnFy6Zu-3vNv",
        "colab_type": "code",
        "colab": {}
      },
      "cell_type": "code",
      "source": [
        "import matplotlib as plt\n",
        "import random"
      ],
      "execution_count": 0,
      "outputs": []
    },
    {
      "metadata": {
        "id": "Sk55AZUZ4Be3",
        "colab_type": "code",
        "outputId": "90df09ef-3258-40ed-f6bb-0822a6ef07d3",
        "colab": {
          "base_uri": "https://localhost:8080/",
          "height": 68
        }
      },
      "cell_type": "code",
      "source": [
        "circle_points = 0\n",
        "square_points = 0\n",
        "i = 0\n",
        "\n",
        "iterations = 10000\n",
        "\n",
        "while(i < iterations):\n",
        "  #generate random floats \n",
        "  x = random.random()\n",
        "  y = random.random()\n",
        "  d = x**2 + y**2\n",
        "  if(d <= 1):\n",
        "    square_points+=1\n",
        "  else:\n",
        "    circle_points+=1\n",
        "  i+=1\n",
        " \n",
        "print(circle_points)\n",
        "print(square_points)\n",
        "pi_est = (4.0*circle_points)/square_points\n",
        "print(pi_est)\n"
      ],
      "execution_count": 0,
      "outputs": [
        {
          "output_type": "stream",
          "text": [
            "2127\n",
            "7873\n",
            "1.0806554045471866\n"
          ],
          "name": "stdout"
        }
      ]
    }
  ]
}